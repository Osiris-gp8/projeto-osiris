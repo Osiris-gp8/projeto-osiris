{
 "cells": [
  {
   "cell_type": "code",
   "execution_count": 90,
   "source": [
    "import pandas as pd\n",
    "from sklearn.linear_model import LinearRegression\n",
    "import seaborn as sns\n",
    "import matplotlib.pyplot as plt"
   ],
   "outputs": [],
   "metadata": {}
  },
  {
   "cell_type": "code",
   "execution_count": 91,
   "source": [
    "acessos = pd.read_pickle(\"./datasets/acesso.pkl\")\n",
    "acessos.head()"
   ],
   "outputs": [
    {
     "output_type": "execute_result",
     "data": {
      "text/html": [
       "<div>\n",
       "<style scoped>\n",
       "    .dataframe tbody tr th:only-of-type {\n",
       "        vertical-align: middle;\n",
       "    }\n",
       "\n",
       "    .dataframe tbody tr th {\n",
       "        vertical-align: top;\n",
       "    }\n",
       "\n",
       "    .dataframe thead th {\n",
       "        text-align: right;\n",
       "    }\n",
       "</style>\n",
       "<table border=\"1\" class=\"dataframe\">\n",
       "  <thead>\n",
       "    <tr style=\"text-align: right;\">\n",
       "      <th></th>\n",
       "      <th>id_acessos</th>\n",
       "      <th>fim_acesso</th>\n",
       "      <th>id_consumidor_ecommerce</th>\n",
       "      <th>inicio_acesso</th>\n",
       "      <th>ecommerce_id_ecommerce</th>\n",
       "      <th>localidade</th>\n",
       "    </tr>\n",
       "  </thead>\n",
       "  <tbody>\n",
       "    <tr>\n",
       "      <th>0</th>\n",
       "      <td>1</td>\n",
       "      <td>2019-04-22 01:26:28</td>\n",
       "      <td>507</td>\n",
       "      <td>2019-04-22 01:21:24</td>\n",
       "      <td>1</td>\n",
       "      <td>MS - Paraíso das Águas</td>\n",
       "    </tr>\n",
       "    <tr>\n",
       "      <th>1</th>\n",
       "      <td>2</td>\n",
       "      <td>2019-06-08 01:16:17</td>\n",
       "      <td>486</td>\n",
       "      <td>2019-06-08 01:11:29</td>\n",
       "      <td>1</td>\n",
       "      <td>PR - Lunardelli</td>\n",
       "    </tr>\n",
       "    <tr>\n",
       "      <th>2</th>\n",
       "      <td>3</td>\n",
       "      <td>2019-06-30 01:29:58</td>\n",
       "      <td>483</td>\n",
       "      <td>2019-06-30 01:24:49</td>\n",
       "      <td>1</td>\n",
       "      <td>BA - Santana</td>\n",
       "    </tr>\n",
       "    <tr>\n",
       "      <th>3</th>\n",
       "      <td>4</td>\n",
       "      <td>2021-04-20 01:37:07</td>\n",
       "      <td>494</td>\n",
       "      <td>2021-04-20 01:31:56</td>\n",
       "      <td>1</td>\n",
       "      <td>PR - Ângulo</td>\n",
       "    </tr>\n",
       "    <tr>\n",
       "      <th>4</th>\n",
       "      <td>5</td>\n",
       "      <td>2020-02-14 01:39:16</td>\n",
       "      <td>510</td>\n",
       "      <td>2020-02-14 01:34:11</td>\n",
       "      <td>1</td>\n",
       "      <td>SC - Sombrio</td>\n",
       "    </tr>\n",
       "  </tbody>\n",
       "</table>\n",
       "</div>"
      ],
      "text/plain": [
       "   id_acessos          fim_acesso  id_consumidor_ecommerce  \\\n",
       "0           1 2019-04-22 01:26:28                      507   \n",
       "1           2 2019-06-08 01:16:17                      486   \n",
       "2           3 2019-06-30 01:29:58                      483   \n",
       "3           4 2021-04-20 01:37:07                      494   \n",
       "4           5 2020-02-14 01:39:16                      510   \n",
       "\n",
       "        inicio_acesso  ecommerce_id_ecommerce              localidade  \n",
       "0 2019-04-22 01:21:24                       1  MS - Paraíso das Águas  \n",
       "1 2019-06-08 01:11:29                       1         PR - Lunardelli  \n",
       "2 2019-06-30 01:24:49                       1            BA - Santana  \n",
       "3 2021-04-20 01:31:56                       1             PR - Ângulo  \n",
       "4 2020-02-14 01:34:11                       1            SC - Sombrio  "
      ]
     },
     "metadata": {},
     "execution_count": 91
    }
   ],
   "metadata": {}
  },
  {
   "cell_type": "code",
   "execution_count": 92,
   "source": [
    "vendas = pd.read_pickle(\"./datasets/evento.pkl\")\n",
    "vendas.head()"
   ],
   "outputs": [
    {
     "output_type": "execute_result",
     "data": {
      "text/html": [
       "<div>\n",
       "<style scoped>\n",
       "    .dataframe tbody tr th:only-of-type {\n",
       "        vertical-align: middle;\n",
       "    }\n",
       "\n",
       "    .dataframe tbody tr th {\n",
       "        vertical-align: top;\n",
       "    }\n",
       "\n",
       "    .dataframe thead th {\n",
       "        text-align: right;\n",
       "    }\n",
       "</style>\n",
       "<table border=\"1\" class=\"dataframe\">\n",
       "  <thead>\n",
       "    <tr style=\"text-align: right;\">\n",
       "      <th></th>\n",
       "      <th>id_evento</th>\n",
       "      <th>data_compra</th>\n",
       "      <th>id_consumidor_ecommerce</th>\n",
       "      <th>nome_categoria</th>\n",
       "      <th>nome_produto</th>\n",
       "      <th>preco</th>\n",
       "      <th>cupom_id_cupom</th>\n",
       "      <th>dominio_status_id_dominio_status</th>\n",
       "      <th>ecommerce_id_ecommerce</th>\n",
       "      <th>data_inclusao</th>\n",
       "      <th>sexo</th>\n",
       "      <th>faixa_etaria</th>\n",
       "    </tr>\n",
       "  </thead>\n",
       "  <tbody>\n",
       "    <tr>\n",
       "      <th>0</th>\n",
       "      <td>1</td>\n",
       "      <td>2019-07-09</td>\n",
       "      <td>507</td>\n",
       "      <td>5</td>\n",
       "      <td>Oakley</td>\n",
       "      <td>2290.55</td>\n",
       "      <td>None</td>\n",
       "      <td>1</td>\n",
       "      <td>1</td>\n",
       "      <td>2021-10-08 19:58:47.313441</td>\n",
       "      <td>1</td>\n",
       "      <td>Terceira Faixa</td>\n",
       "    </tr>\n",
       "    <tr>\n",
       "      <th>1</th>\n",
       "      <td>2</td>\n",
       "      <td>2019-08-09</td>\n",
       "      <td>486</td>\n",
       "      <td>2</td>\n",
       "      <td>Puma</td>\n",
       "      <td>2589.61</td>\n",
       "      <td>None</td>\n",
       "      <td>1</td>\n",
       "      <td>1</td>\n",
       "      <td>2021-10-08 19:58:47.313441</td>\n",
       "      <td>0</td>\n",
       "      <td>Terceira Faixa</td>\n",
       "    </tr>\n",
       "    <tr>\n",
       "      <th>2</th>\n",
       "      <td>3</td>\n",
       "      <td>2019-09-15</td>\n",
       "      <td>483</td>\n",
       "      <td>1</td>\n",
       "      <td>Lacoste</td>\n",
       "      <td>2265.90</td>\n",
       "      <td>None</td>\n",
       "      <td>1</td>\n",
       "      <td>1</td>\n",
       "      <td>2021-10-08 19:58:47.313441</td>\n",
       "      <td>0</td>\n",
       "      <td>Terceira Faixa</td>\n",
       "    </tr>\n",
       "    <tr>\n",
       "      <th>3</th>\n",
       "      <td>4</td>\n",
       "      <td>2020-08-17</td>\n",
       "      <td>494</td>\n",
       "      <td>3</td>\n",
       "      <td>Lacoste</td>\n",
       "      <td>2009.16</td>\n",
       "      <td>None</td>\n",
       "      <td>1</td>\n",
       "      <td>1</td>\n",
       "      <td>2021-10-08 19:58:47.313441</td>\n",
       "      <td>0</td>\n",
       "      <td>Terceira Faixa</td>\n",
       "    </tr>\n",
       "    <tr>\n",
       "      <th>4</th>\n",
       "      <td>5</td>\n",
       "      <td>2020-03-29</td>\n",
       "      <td>510</td>\n",
       "      <td>2</td>\n",
       "      <td>Adidas</td>\n",
       "      <td>2284.87</td>\n",
       "      <td>None</td>\n",
       "      <td>1</td>\n",
       "      <td>1</td>\n",
       "      <td>2021-10-08 19:58:47.313441</td>\n",
       "      <td>1</td>\n",
       "      <td>Primeira Faixa</td>\n",
       "    </tr>\n",
       "  </tbody>\n",
       "</table>\n",
       "</div>"
      ],
      "text/plain": [
       "   id_evento data_compra  id_consumidor_ecommerce nome_categoria nome_produto  \\\n",
       "0          1  2019-07-09                      507              5       Oakley   \n",
       "1          2  2019-08-09                      486              2         Puma   \n",
       "2          3  2019-09-15                      483              1      Lacoste   \n",
       "3          4  2020-08-17                      494              3      Lacoste   \n",
       "4          5  2020-03-29                      510              2       Adidas   \n",
       "\n",
       "     preco cupom_id_cupom  dominio_status_id_dominio_status  \\\n",
       "0  2290.55           None                                 1   \n",
       "1  2589.61           None                                 1   \n",
       "2  2265.90           None                                 1   \n",
       "3  2009.16           None                                 1   \n",
       "4  2284.87           None                                 1   \n",
       "\n",
       "   ecommerce_id_ecommerce              data_inclusao sexo    faixa_etaria  \n",
       "0                       1 2021-10-08 19:58:47.313441    1  Terceira Faixa  \n",
       "1                       1 2021-10-08 19:58:47.313441    0  Terceira Faixa  \n",
       "2                       1 2021-10-08 19:58:47.313441    0  Terceira Faixa  \n",
       "3                       1 2021-10-08 19:58:47.313441    0  Terceira Faixa  \n",
       "4                       1 2021-10-08 19:58:47.313441    1  Primeira Faixa  "
      ]
     },
     "metadata": {},
     "execution_count": 92
    }
   ],
   "metadata": {}
  },
  {
   "cell_type": "code",
   "execution_count": 93,
   "source": [
    "vendas_mes = vendas.groupby(pd.Grouper(key=\"data_compra\", freq=\"M\")).agg({\"id_evento\":\"count\"}).reset_index()\n",
    "vendas_mes.data_compra = vendas_mes.data_compra.values.astype(\"datetime64[M]\")\n",
    "sns.barplot(x = \"data_compra\", y = \"id_evento\", data=vendas_mes)"
   ],
   "outputs": [
    {
     "output_type": "execute_result",
     "data": {
      "text/plain": [
       "<AxesSubplot:xlabel='data_compra', ylabel='id_evento'>"
      ]
     },
     "metadata": {},
     "execution_count": 93
    },
    {
     "output_type": "display_data",
     "data": {
      "image/png": "[encoded data removed]",
      "text/plain": [
       "<Figure size 432x288 with 1 Axes>"
      ]
     },
     "metadata": {
      "needs_background": "light"
     }
    }
   ],
   "metadata": {}
  },
  {
   "cell_type": "code",
   "execution_count": 94,
   "source": [
    "data_compra =  vendas_mes.data_compra.values\n",
    "contagem = vendas_mes.id_evento.values\n",
    "X = data_compra.reshape(len(data_compra), 1).astype(\"float\")\n",
    "y = contagem.reshape(len(contagem), 1)\n",
    "model = LinearRegression().fit(X, y)\n",
    "model.score(X, y)"
   ],
   "outputs": [
    {
     "output_type": "execute_result",
     "data": {
      "text/plain": [
       "0.00041862122222702247"
      ]
     },
     "metadata": {},
     "execution_count": 94
    }
   ],
   "metadata": {}
  },
  {
   "cell_type": "code",
   "execution_count": 95,
   "source": [
    "plt.scatter(X, y, color = \"black\")\n",
    "plt.plot(X, model.predict(X), color=\"blue\", linewidth=3)\n",
    "plt.show()"
   ],
   "outputs": [
    {
     "output_type": "display_data",
     "data": {
      "image/png": "[encoded data removed]",
      "text/plain": [
       "<Figure size 432x288 with 1 Axes>"
      ]
     },
     "metadata": {
      "needs_background": "light"
     }
    }
   ],
   "metadata": {}
  },
  {
   "cell_type": "code",
   "execution_count": 96,
   "source": [
    "acessos_local = acessos.groupby(\"localidade\").agg({\"id_acessos\": \"count\"}).reset_index()\n",
    "plt.bar(acessos_local.localidade.values, acessos_local.id_acessos.values)\n",
    "plt.show()"
   ],
   "outputs": [
    {
     "output_type": "display_data",
     "data": {
      "image/png": "[encoded data removed]",
      "text/plain": [
       "<Figure size 432x288 with 1 Axes>"
      ]
     },
     "metadata": {
      "needs_background": "light"
     }
    }
   ],
   "metadata": {}
  },
  {
   "cell_type": "code",
   "execution_count": 97,
   "source": [
    "acessos_mes = acessos.groupby(pd.Grouper(key=\"inicio_acesso\", freq = \"M\")).agg({\"id_acessos\": \"count\"}).reset_index()\n",
    "acessos_mes.inicio_acesso = acessos_mes.inicio_acesso.values.astype(\"datetime64[M]\")\n",
    "sns.barplot(x = \"inicio_acesso\", y= \"id_acessos\", data = acessos_mes)"
   ],
   "outputs": [
    {
     "output_type": "execute_result",
     "data": {
      "text/plain": [
       "<AxesSubplot:xlabel='inicio_acesso', ylabel='id_acessos'>"
      ]
     },
     "metadata": {},
     "execution_count": 97
    },
    {
     "output_type": "display_data",
     "data": {
      "image/png": "[encoded data removed]",
      "text/plain": [
       "<Figure size 432x288 with 1 Axes>"
      ]
     },
     "metadata": {
      "needs_background": "light"
     }
    }
   ],
   "metadata": {}
  },
  {
   "cell_type": "code",
   "execution_count": 98,
   "source": [
    "acessos_mes.id_acessos.corr(vendas_mes.id_evento)"
   ],
   "outputs": [
    {
     "output_type": "execute_result",
     "data": {
      "text/plain": [
       "0.29483177255324733"
      ]
     },
     "metadata": {},
     "execution_count": 98
    }
   ],
   "metadata": {}
  },
  {
   "cell_type": "code",
   "execution_count": 99,
   "source": [
    "plt.plot(acessos_mes.inicio_acesso, acessos_mes.id_acessos, color = \"green\")\n",
    "plt.plot(vendas_mes.data_compra, vendas_mes.id_evento, color = \"red\")\n",
    "plt.show()"
   ],
   "outputs": [
    {
     "output_type": "display_data",
     "data": {
      "image/png": "[encoded data removed]",
      "text/plain": [
       "<Figure size 432x288 with 1 Axes>"
      ]
     },
     "metadata": {
      "needs_background": "light"
     }
    }
   ],
   "metadata": {}
  },
  {
   "cell_type": "code",
   "execution_count": 100,
   "source": [
    "inicio_acesso = acessos_mes.inicio_acesso.values\n",
    "contagem = acessos_mes.id_acessos.values\n",
    "X = inicio_acesso.reshape(len(inicio_acesso), 1).astype(\"float\")\n",
    "y = contagem.reshape(len(contagem), 1)\n",
    "acessos_model = LinearRegression().fit(X, y)\n",
    "acessos_model.score(X, y)"
   ],
   "outputs": [
    {
     "output_type": "execute_result",
     "data": {
      "text/plain": [
       "0.14654202153191753"
      ]
     },
     "metadata": {},
     "execution_count": 100
    }
   ],
   "metadata": {}
  },
  {
   "cell_type": "code",
   "execution_count": 101,
   "source": [
    "plt.scatter(X, y, color = \"black\")\n",
    "plt.plot(X, acessos_model.predict(X), color = \"green\", linewidth = 3)\n",
    "plt.show()"
   ],
   "outputs": [
    {
     "output_type": "display_data",
     "data": {
      "image/png": "[encoded data removed]",
      "text/plain": [
       "<Figure size 432x288 with 1 Axes>"
      ]
     },
     "metadata": {
      "needs_background": "light"
     }
    }
   ],
   "metadata": {}
  }
 ],
 "metadata": {
  "orig_nbformat": 4,
  "language_info": {
   "name": "python",
   "version": "3.8.10",
   "mimetype": "text/x-python",
   "codemirror_mode": {
    "name": "ipython",
    "version": 3
   },
   "pygments_lexer": "ipython3",
   "nbconvert_exporter": "python",
   "file_extension": ".py"
  },
  "kernelspec": {
   "name": "python3",
   "display_name": "Python 3.8.10 64-bit ('.env': venv)"
  },
  "interpreter": {
   "hash": "fa27f2325b10866b91e6bebe4deb45665b489d3eb91a344f335d2d074742073c"
  }
 },
 "nbformat": 4,
 "nbformat_minor": 2
}