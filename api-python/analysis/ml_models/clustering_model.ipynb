{
 "cells": [
  {
   "cell_type": "code",
   "execution_count": null,
   "id": "05d97639",
   "metadata": {},
   "outputs": [],
   "source": [
    "import pandas as pd"
   ]
  }
 ],
 "metadata": {
  "interpreter": {
   "hash": "cc5c639bb3bf54600a9f761b20cbed31ff1fec80cf703200bb855fcc9d06ad80"
  },
  "kernelspec": {
   "display_name": "Python 3.6.1 32-bit",
   "name": "python3"
  },
  "language_info": {
   "name": "python",
   "version": "3.6.1"
  }
 },
 "nbformat": 4,
 "nbformat_minor": 5
}
